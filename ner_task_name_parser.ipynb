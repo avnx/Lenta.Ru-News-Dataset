{
  "nbformat": 4,
  "nbformat_minor": 0,
  "metadata": {
    "colab": {
      "provenance": [],
      "gpuType": "T4"
    },
    "kernelspec": {
      "name": "python3",
      "display_name": "Python 3"
    },
    "language_info": {
      "name": "python"
    },
    "accelerator": "GPU",
    "gpuClass": "standard",
    "widgets": {
      "application/vnd.jupyter.widget-state+json": {
        "3dfb21b7065c4b908858b5c7d3c68063": {
          "model_module": "@jupyter-widgets/controls",
          "model_name": "HBoxModel",
          "model_module_version": "1.5.0",
          "state": {
            "_dom_classes": [],
            "_model_module": "@jupyter-widgets/controls",
            "_model_module_version": "1.5.0",
            "_model_name": "HBoxModel",
            "_view_count": null,
            "_view_module": "@jupyter-widgets/controls",
            "_view_module_version": "1.5.0",
            "_view_name": "HBoxView",
            "box_style": "",
            "children": [
              "IPY_MODEL_2705835a983b45018e5bd68e662a3797",
              "IPY_MODEL_f7839bf6c6a34c86b89d11640524b7ab",
              "IPY_MODEL_f55700dd36414ca1a404272858ae0145"
            ],
            "layout": "IPY_MODEL_4ee431f2d8ed4df3bcb312e6f0313257"
          }
        },
        "2705835a983b45018e5bd68e662a3797": {
          "model_module": "@jupyter-widgets/controls",
          "model_name": "HTMLModel",
          "model_module_version": "1.5.0",
          "state": {
            "_dom_classes": [],
            "_model_module": "@jupyter-widgets/controls",
            "_model_module_version": "1.5.0",
            "_model_name": "HTMLModel",
            "_view_count": null,
            "_view_module": "@jupyter-widgets/controls",
            "_view_module_version": "1.5.0",
            "_view_name": "HTMLView",
            "description": "",
            "description_tooltip": null,
            "layout": "IPY_MODEL_defce59aa4444df0832b6d0fcd1da182",
            "placeholder": "​",
            "style": "IPY_MODEL_5d91ff67c2294d638157436df0d17278",
            "value": "Downloading pytorch_model.bin: 100%"
          }
        },
        "f7839bf6c6a34c86b89d11640524b7ab": {
          "model_module": "@jupyter-widgets/controls",
          "model_name": "FloatProgressModel",
          "model_module_version": "1.5.0",
          "state": {
            "_dom_classes": [],
            "_model_module": "@jupyter-widgets/controls",
            "_model_module_version": "1.5.0",
            "_model_name": "FloatProgressModel",
            "_view_count": null,
            "_view_module": "@jupyter-widgets/controls",
            "_view_module_version": "1.5.0",
            "_view_name": "ProgressView",
            "bar_style": "success",
            "description": "",
            "description_tooltip": null,
            "layout": "IPY_MODEL_dee64bfac6e64352b06bb65bfe02f5ad",
            "max": 435779157,
            "min": 0,
            "orientation": "horizontal",
            "style": "IPY_MODEL_867bbd48aa444479b2ecb58f194fb904",
            "value": 435779157
          }
        },
        "f55700dd36414ca1a404272858ae0145": {
          "model_module": "@jupyter-widgets/controls",
          "model_name": "HTMLModel",
          "model_module_version": "1.5.0",
          "state": {
            "_dom_classes": [],
            "_model_module": "@jupyter-widgets/controls",
            "_model_module_version": "1.5.0",
            "_model_name": "HTMLModel",
            "_view_count": null,
            "_view_module": "@jupyter-widgets/controls",
            "_view_module_version": "1.5.0",
            "_view_name": "HTMLView",
            "description": "",
            "description_tooltip": null,
            "layout": "IPY_MODEL_120f1cc76e3a4c71bfc0311456a999a1",
            "placeholder": "​",
            "style": "IPY_MODEL_8d596c925148431a97691ca841daf98d",
            "value": " 436M/436M [00:10&lt;00:00, 39.1MB/s]"
          }
        },
        "4ee431f2d8ed4df3bcb312e6f0313257": {
          "model_module": "@jupyter-widgets/base",
          "model_name": "LayoutModel",
          "model_module_version": "1.2.0",
          "state": {
            "_model_module": "@jupyter-widgets/base",
            "_model_module_version": "1.2.0",
            "_model_name": "LayoutModel",
            "_view_count": null,
            "_view_module": "@jupyter-widgets/base",
            "_view_module_version": "1.2.0",
            "_view_name": "LayoutView",
            "align_content": null,
            "align_items": null,
            "align_self": null,
            "border": null,
            "bottom": null,
            "display": null,
            "flex": null,
            "flex_flow": null,
            "grid_area": null,
            "grid_auto_columns": null,
            "grid_auto_flow": null,
            "grid_auto_rows": null,
            "grid_column": null,
            "grid_gap": null,
            "grid_row": null,
            "grid_template_areas": null,
            "grid_template_columns": null,
            "grid_template_rows": null,
            "height": null,
            "justify_content": null,
            "justify_items": null,
            "left": null,
            "margin": null,
            "max_height": null,
            "max_width": null,
            "min_height": null,
            "min_width": null,
            "object_fit": null,
            "object_position": null,
            "order": null,
            "overflow": null,
            "overflow_x": null,
            "overflow_y": null,
            "padding": null,
            "right": null,
            "top": null,
            "visibility": null,
            "width": null
          }
        },
        "defce59aa4444df0832b6d0fcd1da182": {
          "model_module": "@jupyter-widgets/base",
          "model_name": "LayoutModel",
          "model_module_version": "1.2.0",
          "state": {
            "_model_module": "@jupyter-widgets/base",
            "_model_module_version": "1.2.0",
            "_model_name": "LayoutModel",
            "_view_count": null,
            "_view_module": "@jupyter-widgets/base",
            "_view_module_version": "1.2.0",
            "_view_name": "LayoutView",
            "align_content": null,
            "align_items": null,
            "align_self": null,
            "border": null,
            "bottom": null,
            "display": null,
            "flex": null,
            "flex_flow": null,
            "grid_area": null,
            "grid_auto_columns": null,
            "grid_auto_flow": null,
            "grid_auto_rows": null,
            "grid_column": null,
            "grid_gap": null,
            "grid_row": null,
            "grid_template_areas": null,
            "grid_template_columns": null,
            "grid_template_rows": null,
            "height": null,
            "justify_content": null,
            "justify_items": null,
            "left": null,
            "margin": null,
            "max_height": null,
            "max_width": null,
            "min_height": null,
            "min_width": null,
            "object_fit": null,
            "object_position": null,
            "order": null,
            "overflow": null,
            "overflow_x": null,
            "overflow_y": null,
            "padding": null,
            "right": null,
            "top": null,
            "visibility": null,
            "width": null
          }
        },
        "5d91ff67c2294d638157436df0d17278": {
          "model_module": "@jupyter-widgets/controls",
          "model_name": "DescriptionStyleModel",
          "model_module_version": "1.5.0",
          "state": {
            "_model_module": "@jupyter-widgets/controls",
            "_model_module_version": "1.5.0",
            "_model_name": "DescriptionStyleModel",
            "_view_count": null,
            "_view_module": "@jupyter-widgets/base",
            "_view_module_version": "1.2.0",
            "_view_name": "StyleView",
            "description_width": ""
          }
        },
        "dee64bfac6e64352b06bb65bfe02f5ad": {
          "model_module": "@jupyter-widgets/base",
          "model_name": "LayoutModel",
          "model_module_version": "1.2.0",
          "state": {
            "_model_module": "@jupyter-widgets/base",
            "_model_module_version": "1.2.0",
            "_model_name": "LayoutModel",
            "_view_count": null,
            "_view_module": "@jupyter-widgets/base",
            "_view_module_version": "1.2.0",
            "_view_name": "LayoutView",
            "align_content": null,
            "align_items": null,
            "align_self": null,
            "border": null,
            "bottom": null,
            "display": null,
            "flex": null,
            "flex_flow": null,
            "grid_area": null,
            "grid_auto_columns": null,
            "grid_auto_flow": null,
            "grid_auto_rows": null,
            "grid_column": null,
            "grid_gap": null,
            "grid_row": null,
            "grid_template_areas": null,
            "grid_template_columns": null,
            "grid_template_rows": null,
            "height": null,
            "justify_content": null,
            "justify_items": null,
            "left": null,
            "margin": null,
            "max_height": null,
            "max_width": null,
            "min_height": null,
            "min_width": null,
            "object_fit": null,
            "object_position": null,
            "order": null,
            "overflow": null,
            "overflow_x": null,
            "overflow_y": null,
            "padding": null,
            "right": null,
            "top": null,
            "visibility": null,
            "width": null
          }
        },
        "867bbd48aa444479b2ecb58f194fb904": {
          "model_module": "@jupyter-widgets/controls",
          "model_name": "ProgressStyleModel",
          "model_module_version": "1.5.0",
          "state": {
            "_model_module": "@jupyter-widgets/controls",
            "_model_module_version": "1.5.0",
            "_model_name": "ProgressStyleModel",
            "_view_count": null,
            "_view_module": "@jupyter-widgets/base",
            "_view_module_version": "1.2.0",
            "_view_name": "StyleView",
            "bar_color": null,
            "description_width": ""
          }
        },
        "120f1cc76e3a4c71bfc0311456a999a1": {
          "model_module": "@jupyter-widgets/base",
          "model_name": "LayoutModel",
          "model_module_version": "1.2.0",
          "state": {
            "_model_module": "@jupyter-widgets/base",
            "_model_module_version": "1.2.0",
            "_model_name": "LayoutModel",
            "_view_count": null,
            "_view_module": "@jupyter-widgets/base",
            "_view_module_version": "1.2.0",
            "_view_name": "LayoutView",
            "align_content": null,
            "align_items": null,
            "align_self": null,
            "border": null,
            "bottom": null,
            "display": null,
            "flex": null,
            "flex_flow": null,
            "grid_area": null,
            "grid_auto_columns": null,
            "grid_auto_flow": null,
            "grid_auto_rows": null,
            "grid_column": null,
            "grid_gap": null,
            "grid_row": null,
            "grid_template_areas": null,
            "grid_template_columns": null,
            "grid_template_rows": null,
            "height": null,
            "justify_content": null,
            "justify_items": null,
            "left": null,
            "margin": null,
            "max_height": null,
            "max_width": null,
            "min_height": null,
            "min_width": null,
            "object_fit": null,
            "object_position": null,
            "order": null,
            "overflow": null,
            "overflow_x": null,
            "overflow_y": null,
            "padding": null,
            "right": null,
            "top": null,
            "visibility": null,
            "width": null
          }
        },
        "8d596c925148431a97691ca841daf98d": {
          "model_module": "@jupyter-widgets/controls",
          "model_name": "DescriptionStyleModel",
          "model_module_version": "1.5.0",
          "state": {
            "_model_module": "@jupyter-widgets/controls",
            "_model_module_version": "1.5.0",
            "_model_name": "DescriptionStyleModel",
            "_view_count": null,
            "_view_module": "@jupyter-widgets/base",
            "_view_module_version": "1.2.0",
            "_view_name": "StyleView",
            "description_width": ""
          }
        }
      }
    }
  },
  "cells": [
    {
      "cell_type": "markdown",
      "source": [
        "### Download dataset"
      ],
      "metadata": {
        "id": "YYi94X6_oH82"
      }
    },
    {
      "cell_type": "code",
      "execution_count": null,
      "metadata": {
        "colab": {
          "base_uri": "https://localhost:8080/"
        },
        "id": "_KszDVqUKcrK",
        "outputId": "c6e27bb9-4e66-4241-8ce3-b7b6a8bd35d5"
      },
      "outputs": [
        {
          "output_type": "execute_result",
          "data": {
            "text/plain": [
              "('person_labeled.xml', <http.client.HTTPMessage at 0x7f4ef40eefb0>)"
            ]
          },
          "metadata": {},
          "execution_count": 1
        }
      ],
      "source": [
        "import urllib.request\n",
        "import re\n",
        "\n",
        "url = \"https://raw.githubusercontent.com/datamade/probablepeople/master/name_data/labeled/person_labeled.xml\"\n",
        "urllib.request.urlretrieve(url, \"person_labeled.xml\")"
      ]
    },
    {
      "cell_type": "code",
      "source": [
        "with open(\"person_labeled.xml\", 'r') as f:\n",
        "    xml_text = f.read()"
      ],
      "metadata": {
        "id": "1ph8xg64Kspz"
      },
      "execution_count": null,
      "outputs": []
    },
    {
      "cell_type": "code",
      "source": [
        "tags = set([tag[1:-1] for tag in re.findall(r'<\\w+>', xml_text)])"
      ],
      "metadata": {
        "id": "rXwqsi7nKpfr"
      },
      "execution_count": null,
      "outputs": []
    },
    {
      "cell_type": "code",
      "source": [
        "tags"
      ],
      "metadata": {
        "colab": {
          "base_uri": "https://localhost:8080/"
        },
        "id": "CQAzG656Kp-W",
        "outputId": "0437fe61-83e0-4f7d-fbd2-0bf420f0e027"
      },
      "execution_count": null,
      "outputs": [
        {
          "output_type": "execute_result",
          "data": {
            "text/plain": [
              "{'And',\n",
              " 'FirstInitial',\n",
              " 'GivenName',\n",
              " 'LastInitial',\n",
              " 'MiddleInitial',\n",
              " 'MiddleName',\n",
              " 'Name',\n",
              " 'NameCollection',\n",
              " 'Nickname',\n",
              " 'PrefixMarital',\n",
              " 'PrefixOther',\n",
              " 'SuffixGenerational',\n",
              " 'SuffixOther',\n",
              " 'Surname'}"
            ]
          },
          "metadata": {},
          "execution_count": 67
        }
      ]
    },
    {
      "cell_type": "markdown",
      "source": [
        "### Calculating statistic of tags appearances"
      ],
      "metadata": {
        "id": "ecAIOD5L22YT"
      }
    },
    {
      "cell_type": "code",
      "source": [
        "tags_stat = dict()\n",
        "for tag in re.findall(r'<\\w+>', xml_text):\n",
        "  if tag in tags_stat:\n",
        "    tags_stat[tag] += 1\n",
        "  else:\n",
        "    tags_stat[tag] = 0\n",
        "tags_stat"
      ],
      "metadata": {
        "colab": {
          "base_uri": "https://localhost:8080/"
        },
        "id": "VsQ6cVqdKuL_",
        "outputId": "5d673fe1-3d83-4796-ec47-37099b03e808"
      },
      "execution_count": null,
      "outputs": [
        {
          "output_type": "execute_result",
          "data": {
            "text/plain": [
              "{'<NameCollection>': 0,\n",
              " '<Name>': 2891,\n",
              " '<GivenName>': 2349,\n",
              " '<Surname>': 2337,\n",
              " '<FirstInitial>': 69,\n",
              " '<LastInitial>': 45,\n",
              " '<SuffixGenerational>': 164,\n",
              " '<MiddleName>': 189,\n",
              " '<MiddleInitial>': 386,\n",
              " '<Nickname>': 96,\n",
              " '<And>': 85,\n",
              " '<SuffixOther>': 114,\n",
              " '<PrefixOther>': 62,\n",
              " '<PrefixMarital>': 102}"
            ]
          },
          "metadata": {},
          "execution_count": 64
        }
      ]
    },
    {
      "cell_type": "markdown",
      "source": [
        "### Remove unnecessary labels"
      ],
      "metadata": {
        "id": "UGZns4xs2-_n"
      }
    },
    {
      "cell_type": "code",
      "source": [
        "tags.remove('Name')\n",
        "tags.remove('NameCollection')"
      ],
      "metadata": {
        "id": "n8a1prWVLVUn"
      },
      "execution_count": null,
      "outputs": []
    },
    {
      "cell_type": "code",
      "source": [
        "from copy import deepcopy\n",
        "\n",
        "all_tags = deepcopy(tags)"
      ],
      "metadata": {
        "id": "gRtZ-IRPLe3B"
      },
      "execution_count": null,
      "outputs": []
    },
    {
      "cell_type": "markdown",
      "source": [
        "### Creating input data for dataset consisted of words and tags"
      ],
      "metadata": {
        "id": "gHJ8uV7a3SYC"
      }
    },
    {
      "cell_type": "code",
      "source": [
        "import xml.etree.ElementTree as ET\n",
        "\n",
        "tree = ET.ElementTree(ET.fromstring(xml_text))\n",
        "root = tree.getroot()\n",
        "\n",
        "sentences, tags = [], []\n",
        "for name in root.findall('Name'):\n",
        "    sentence, tag = [], []\n",
        "    for child in name:\n",
        "        sentence.append(child.text.strip())\n",
        "        tag.append(child.tag)\n",
        "    sentences.append(sentence)\n",
        "    tags.append(tag)\n"
      ],
      "metadata": {
        "id": "AmuifYIfLiki"
      },
      "execution_count": null,
      "outputs": []
    },
    {
      "cell_type": "code",
      "source": [
        "sentences[10:20], tags[10:20]"
      ],
      "metadata": {
        "colab": {
          "base_uri": "https://localhost:8080/"
        },
        "id": "eVfwpCQ1LnG8",
        "outputId": "dc5e20b7-4fd2-4b2b-f3a9-2bbeed9eedea"
      },
      "execution_count": null,
      "outputs": [
        {
          "output_type": "execute_result",
          "data": {
            "text/plain": [
              "([['Jianxiong', 'Xiao'],\n",
              "  ['B.', 'Cloer'],\n",
              "  ['FRANCO'],\n",
              "  ['MEDINA'],\n",
              "  ['Russell,', 'Herman'],\n",
              "  ['WILKERSON'],\n",
              "  ['Elizabeth', 'B'],\n",
              "  ['ROCHELL'],\n",
              "  ['BIRD'],\n",
              "  ['CASE']],\n",
              " [['GivenName', 'Surname'],\n",
              "  ['FirstInitial', 'Surname'],\n",
              "  ['Surname'],\n",
              "  ['Surname'],\n",
              "  ['Surname', 'GivenName'],\n",
              "  ['Surname'],\n",
              "  ['GivenName', 'LastInitial'],\n",
              "  ['GivenName'],\n",
              "  ['Surname'],\n",
              "  ['Surname']])"
            ]
          },
          "metadata": {},
          "execution_count": 83
        }
      ]
    },
    {
      "cell_type": "code",
      "source": [
        "!pip install transformers"
      ],
      "metadata": {
        "colab": {
          "base_uri": "https://localhost:8080/"
        },
        "id": "NgBKqHyyL4W7",
        "outputId": "53b2c30a-07cd-44de-a5df-bab2db7b25f6"
      },
      "execution_count": null,
      "outputs": [
        {
          "output_type": "stream",
          "name": "stdout",
          "text": [
            "Looking in indexes: https://pypi.org/simple, https://us-python.pkg.dev/colab-wheels/public/simple/\n",
            "Collecting transformers\n",
            "  Downloading transformers-4.29.2-py3-none-any.whl (7.1 MB)\n",
            "\u001b[2K     \u001b[90m━━━━━━━━━━━━━━━━━━━━━━━━━━━━━━━━━━━━━━━━\u001b[0m \u001b[32m7.1/7.1 MB\u001b[0m \u001b[31m59.1 MB/s\u001b[0m eta \u001b[36m0:00:00\u001b[0m\n",
            "\u001b[?25hRequirement already satisfied: filelock in /usr/local/lib/python3.10/dist-packages (from transformers) (3.12.0)\n",
            "Collecting huggingface-hub<1.0,>=0.14.1 (from transformers)\n",
            "  Downloading huggingface_hub-0.14.1-py3-none-any.whl (224 kB)\n",
            "\u001b[2K     \u001b[90m━━━━━━━━━━━━━━━━━━━━━━━━━━━━━━━━━━━━━━\u001b[0m \u001b[32m224.5/224.5 kB\u001b[0m \u001b[31m28.7 MB/s\u001b[0m eta \u001b[36m0:00:00\u001b[0m\n",
            "\u001b[?25hRequirement already satisfied: numpy>=1.17 in /usr/local/lib/python3.10/dist-packages (from transformers) (1.22.4)\n",
            "Requirement already satisfied: packaging>=20.0 in /usr/local/lib/python3.10/dist-packages (from transformers) (23.1)\n",
            "Requirement already satisfied: pyyaml>=5.1 in /usr/local/lib/python3.10/dist-packages (from transformers) (6.0)\n",
            "Requirement already satisfied: regex!=2019.12.17 in /usr/local/lib/python3.10/dist-packages (from transformers) (2022.10.31)\n",
            "Requirement already satisfied: requests in /usr/local/lib/python3.10/dist-packages (from transformers) (2.27.1)\n",
            "Collecting tokenizers!=0.11.3,<0.14,>=0.11.1 (from transformers)\n",
            "  Downloading tokenizers-0.13.3-cp310-cp310-manylinux_2_17_x86_64.manylinux2014_x86_64.whl (7.8 MB)\n",
            "\u001b[2K     \u001b[90m━━━━━━━━━━━━━━━━━━━━━━━━━━━━━━━━━━━━━━━━\u001b[0m \u001b[32m7.8/7.8 MB\u001b[0m \u001b[31m118.4 MB/s\u001b[0m eta \u001b[36m0:00:00\u001b[0m\n",
            "\u001b[?25hRequirement already satisfied: tqdm>=4.27 in /usr/local/lib/python3.10/dist-packages (from transformers) (4.65.0)\n",
            "Requirement already satisfied: fsspec in /usr/local/lib/python3.10/dist-packages (from huggingface-hub<1.0,>=0.14.1->transformers) (2023.4.0)\n",
            "Requirement already satisfied: typing-extensions>=3.7.4.3 in /usr/local/lib/python3.10/dist-packages (from huggingface-hub<1.0,>=0.14.1->transformers) (4.5.0)\n",
            "Requirement already satisfied: urllib3<1.27,>=1.21.1 in /usr/local/lib/python3.10/dist-packages (from requests->transformers) (1.26.15)\n",
            "Requirement already satisfied: certifi>=2017.4.17 in /usr/local/lib/python3.10/dist-packages (from requests->transformers) (2022.12.7)\n",
            "Requirement already satisfied: charset-normalizer~=2.0.0 in /usr/local/lib/python3.10/dist-packages (from requests->transformers) (2.0.12)\n",
            "Requirement already satisfied: idna<4,>=2.5 in /usr/local/lib/python3.10/dist-packages (from requests->transformers) (3.4)\n",
            "Installing collected packages: tokenizers, huggingface-hub, transformers\n",
            "Successfully installed huggingface-hub-0.14.1 tokenizers-0.13.3 transformers-4.29.2\n"
          ]
        }
      ]
    },
    {
      "cell_type": "code",
      "source": [
        "import torch\n",
        "from torchtext import data\n",
        "from transformers import BertTokenizer, BertForTokenClassification, BertModel\n",
        "from sklearn.model_selection import train_test_split\n",
        "from torch.nn.utils.rnn import pack_padded_sequence, pad_packed_sequence"
      ],
      "metadata": {
        "id": "BLXsstK_LtZZ"
      },
      "execution_count": null,
      "outputs": []
    },
    {
      "cell_type": "code",
      "source": [
        "all_tags"
      ],
      "metadata": {
        "colab": {
          "base_uri": "https://localhost:8080/"
        },
        "id": "1HAjztGgdqka",
        "outputId": "fb7ceca8-f68d-4455-9943-fbd960c51894"
      },
      "execution_count": null,
      "outputs": [
        {
          "output_type": "execute_result",
          "data": {
            "text/plain": [
              "{'And',\n",
              " 'FirstInitial',\n",
              " 'GivenName',\n",
              " 'LastInitial',\n",
              " 'MiddleInitial',\n",
              " 'MiddleName',\n",
              " 'Nickname',\n",
              " 'PrefixMarital',\n",
              " 'PrefixOther',\n",
              " 'SuffixGenerational',\n",
              " 'SuffixOther',\n",
              " 'Surname'}"
            ]
          },
          "metadata": {},
          "execution_count": 75
        }
      ]
    },
    {
      "cell_type": "code",
      "source": [
        "all_tags = list(all_tags)\n",
        "tag2idx = {all_tags[i]: i for i in range(len(all_tags))}\n"
      ],
      "metadata": {
        "id": "PlzBkR8ULzOx"
      },
      "execution_count": null,
      "outputs": []
    },
    {
      "cell_type": "markdown",
      "source": [
        "### Creating space token and pad token. Space token I use for better distinguishing words in inference"
      ],
      "metadata": {
        "id": "FJ5eTSg63pZa"
      }
    },
    {
      "cell_type": "code",
      "source": [
        "tag2idx['space'] = 12\n",
        "tag2idx['pad'] = 13\n",
        "tag2idx"
      ],
      "metadata": {
        "colab": {
          "base_uri": "https://localhost:8080/"
        },
        "id": "8vWVCfLXMDvy",
        "outputId": "2f140bd8-f97f-4c98-a333-11fecb3277d9"
      },
      "execution_count": null,
      "outputs": [
        {
          "output_type": "execute_result",
          "data": {
            "text/plain": [
              "{'GivenName': 1,\n",
              " 'MiddleInitial': 0,\n",
              " 'FirstInitial': 2,\n",
              " 'And': 3,\n",
              " 'SuffixGenerational': 4,\n",
              " 'Nickname': 5,\n",
              " 'PrefixOther': 7,\n",
              " 'Surname': 6,\n",
              " 'MiddleName': 8,\n",
              " 'PrefixMarital': 9,\n",
              " 'SuffixOther': 10,\n",
              " 'LastInitial': 11,\n",
              " 'space': 12,\n",
              " 'pad': 13}"
            ]
          },
          "metadata": {},
          "execution_count": 79
        }
      ]
    },
    {
      "cell_type": "code",
      "source": [
        "import torch\n",
        "import torch.nn as nn\n",
        "import torch.optim as optim\n",
        "from torch.utils.data import Dataset, DataLoader"
      ],
      "metadata": {
        "id": "JVAsOOplMX65"
      },
      "execution_count": null,
      "outputs": []
    },
    {
      "cell_type": "markdown",
      "source": [
        "### Create NER Dataset"
      ],
      "metadata": {
        "id": "ZJHyQnV3y5i9"
      }
    },
    {
      "cell_type": "code",
      "source": [
        "class NERDataset(Dataset):\n",
        "    def __init__(self, sentences, tags):\n",
        "        self.sentences = sentences\n",
        "        self.tags = tags\n",
        "        self.tokenizer = BertTokenizer.from_pretrained('bert-base-cased')\n",
        "\n",
        "    def __len__(self):\n",
        "        return len(self.sentences)\n",
        "\n",
        "    def __getitem__(self, idx):\n",
        "        tags = self.tags[idx]\n",
        "        sentence = self.sentences[idx]\n",
        "\n",
        "        tokens = []\n",
        "        tag_labels = []\n",
        "        for word, tag in zip(sentence, tags):\n",
        "            word_tokens = self.tokenizer.tokenize(word)\n",
        "            tokens.extend(word_tokens + ['%'])\n",
        "            tag_labels.extend([tag] * len(word_tokens) + ['space'])\n",
        "        tokens.pop()\n",
        "        tag_labels.pop()\n",
        "\n",
        "        encoded_input = torch.tensor(self.tokenizer.convert_tokens_to_ids(tokens))\n",
        "        attention_mask = torch.tensor([1] * len(encoded_input))\n",
        "        encoded_tags = torch.tensor(list(map(lambda x: tag2idx[x], tag_labels)))\n",
        "        tags = list(map(lambda x: tag2idx[x], tags))\n",
        "        return encoded_input, attention_mask, encoded_tags, tags\n"
      ],
      "metadata": {
        "id": "d3JIwYtiMKCK"
      },
      "execution_count": null,
      "outputs": []
    },
    {
      "cell_type": "markdown",
      "source": [
        "### Create dataloader and batch it according lengths of sequence so model could learn more effectively"
      ],
      "metadata": {
        "id": "3qd8-22DzhGa"
      }
    },
    {
      "cell_type": "code",
      "source": [
        "from torch.nn.utils.rnn import pad_sequence\n",
        "\n",
        "def collate_fn(batch):\n",
        "    # Separate the batch into input_ids, attention_masks, tags and raw_tags\n",
        "    input_ids, attention_masks, tags, raw_tags = zip(*batch)\n",
        "    input_ids = pad_sequence([input_ids[0].T, input_ids[1].T, input_ids[2].T, input_ids[3].T], batch_first=True, padding_value=0)\n",
        "    attention_masks = pad_sequence(attention_masks, batch_first=True)\n",
        "    tags = pad_sequence(tags, batch_first=True, padding_value=13)\n",
        "\n",
        "    return input_ids, attention_masks, torch.tensor(tags), raw_tags\n",
        "\n",
        "# Create the dataloader with the custom collate_fn\n",
        "dataset = NERDataset(sentences, tags)\n",
        "sorted_dataset = sorted(dataset, key=lambda x: len(x[0]))\n",
        "dataloader = DataLoader(sorted_dataset, batch_size=4, shuffle=False, collate_fn=collate_fn)"
      ],
      "metadata": {
        "id": "9Vm4zqCJMYZa"
      },
      "execution_count": null,
      "outputs": []
    },
    {
      "cell_type": "markdown",
      "source": [
        "### Creating simple model with biLSTM and Linear on top of bert embeddings"
      ],
      "metadata": {
        "id": "0alYLaW60QJU"
      }
    },
    {
      "cell_type": "code",
      "source": [
        "class NERModel(nn.Module):\n",
        "    def __init__(self, num_tags):\n",
        "        super(NERModel, self).__init__()\n",
        "        self.bert = BertModel.from_pretrained('bert-base-cased')\n",
        "        self.lstm = nn.LSTM(768, 128, bidirectional=True, batch_first=True)\n",
        "        self.dropout = nn.Dropout(0.2)\n",
        "        self.fc = nn.Linear(256, num_tags)\n",
        "\n",
        "    def forward(self, input_ids, attention_mask):\n",
        "        outputs = self.bert(input_ids=input_ids, attention_mask=attention_mask)\n",
        "        sequence_output = outputs['last_hidden_state']\n",
        "        lstm_output, _ = self.lstm(sequence_output)\n",
        "        lstm_output = self.dropout(lstm_output)\n",
        "        logits = self.fc(lstm_output)\n",
        "\n",
        "        return logits"
      ],
      "metadata": {
        "id": "BEnmdxcCMh48"
      },
      "execution_count": null,
      "outputs": []
    },
    {
      "cell_type": "code",
      "source": [
        "model = NERModel(num_tags=len(tag2idx))"
      ],
      "metadata": {
        "colab": {
          "base_uri": "https://localhost:8080/",
          "height": 123,
          "referenced_widgets": [
            "3dfb21b7065c4b908858b5c7d3c68063",
            "2705835a983b45018e5bd68e662a3797",
            "f7839bf6c6a34c86b89d11640524b7ab",
            "f55700dd36414ca1a404272858ae0145",
            "4ee431f2d8ed4df3bcb312e6f0313257",
            "defce59aa4444df0832b6d0fcd1da182",
            "5d91ff67c2294d638157436df0d17278",
            "dee64bfac6e64352b06bb65bfe02f5ad",
            "867bbd48aa444479b2ecb58f194fb904",
            "120f1cc76e3a4c71bfc0311456a999a1",
            "8d596c925148431a97691ca841daf98d"
          ]
        },
        "id": "7bnXf646Mr2D",
        "outputId": "87c8f039-1117-4ade-dd54-c54a1ff2caaf"
      },
      "execution_count": null,
      "outputs": [
        {
          "output_type": "display_data",
          "data": {
            "text/plain": [
              "Downloading pytorch_model.bin:   0%|          | 0.00/436M [00:00<?, ?B/s]"
            ],
            "application/vnd.jupyter.widget-view+json": {
              "version_major": 2,
              "version_minor": 0,
              "model_id": "3dfb21b7065c4b908858b5c7d3c68063"
            }
          },
          "metadata": {}
        },
        {
          "output_type": "stream",
          "name": "stderr",
          "text": [
            "Some weights of the model checkpoint at bert-base-cased were not used when initializing BertModel: ['cls.predictions.transform.dense.bias', 'cls.predictions.transform.dense.weight', 'cls.seq_relationship.weight', 'cls.predictions.transform.LayerNorm.bias', 'cls.seq_relationship.bias', 'cls.predictions.decoder.weight', 'cls.predictions.bias', 'cls.predictions.transform.LayerNorm.weight']\n",
            "- This IS expected if you are initializing BertModel from the checkpoint of a model trained on another task or with another architecture (e.g. initializing a BertForSequenceClassification model from a BertForPreTraining model).\n",
            "- This IS NOT expected if you are initializing BertModel from the checkpoint of a model that you expect to be exactly identical (initializing a BertForSequenceClassification model from a BertForSequenceClassification model).\n"
          ]
        }
      ]
    },
    {
      "cell_type": "code",
      "source": [
        "from torch.nn.functional import cross_entropy"
      ],
      "metadata": {
        "id": "JdL-TdRcMt2p"
      },
      "execution_count": null,
      "outputs": []
    },
    {
      "cell_type": "markdown",
      "source": [
        "### Define cross entropy loss with logits"
      ],
      "metadata": {
        "id": "yv9I5Su_nw9y"
      }
    },
    {
      "cell_type": "code",
      "source": [
        "loss_fn = nn.CrossEntropyLoss()\n",
        "optimizer = optim.Adam(model.parameters(), lr=1e-6)\n",
        "\n",
        "# Training loop (you can modify this based on your specific needs)\n",
        "num_epochs = 1000\n",
        "device = torch.device(\"cuda\" if torch.cuda.is_available() else \"cpu\")\n",
        "model.to(device)"
      ],
      "metadata": {
        "colab": {
          "base_uri": "https://localhost:8080/"
        },
        "id": "MiqGWcDgMwAL",
        "outputId": "4b0e134e-18c8-4ab1-abf9-9649f5d7676c"
      },
      "execution_count": null,
      "outputs": [
        {
          "output_type": "execute_result",
          "data": {
            "text/plain": [
              "NERModel(\n",
              "  (bert): BertModel(\n",
              "    (embeddings): BertEmbeddings(\n",
              "      (word_embeddings): Embedding(28996, 768, padding_idx=0)\n",
              "      (position_embeddings): Embedding(512, 768)\n",
              "      (token_type_embeddings): Embedding(2, 768)\n",
              "      (LayerNorm): LayerNorm((768,), eps=1e-12, elementwise_affine=True)\n",
              "      (dropout): Dropout(p=0.1, inplace=False)\n",
              "    )\n",
              "    (encoder): BertEncoder(\n",
              "      (layer): ModuleList(\n",
              "        (0-11): 12 x BertLayer(\n",
              "          (attention): BertAttention(\n",
              "            (self): BertSelfAttention(\n",
              "              (query): Linear(in_features=768, out_features=768, bias=True)\n",
              "              (key): Linear(in_features=768, out_features=768, bias=True)\n",
              "              (value): Linear(in_features=768, out_features=768, bias=True)\n",
              "              (dropout): Dropout(p=0.1, inplace=False)\n",
              "            )\n",
              "            (output): BertSelfOutput(\n",
              "              (dense): Linear(in_features=768, out_features=768, bias=True)\n",
              "              (LayerNorm): LayerNorm((768,), eps=1e-12, elementwise_affine=True)\n",
              "              (dropout): Dropout(p=0.1, inplace=False)\n",
              "            )\n",
              "          )\n",
              "          (intermediate): BertIntermediate(\n",
              "            (dense): Linear(in_features=768, out_features=3072, bias=True)\n",
              "            (intermediate_act_fn): GELUActivation()\n",
              "          )\n",
              "          (output): BertOutput(\n",
              "            (dense): Linear(in_features=3072, out_features=768, bias=True)\n",
              "            (LayerNorm): LayerNorm((768,), eps=1e-12, elementwise_affine=True)\n",
              "            (dropout): Dropout(p=0.1, inplace=False)\n",
              "          )\n",
              "        )\n",
              "      )\n",
              "    )\n",
              "    (pooler): BertPooler(\n",
              "      (dense): Linear(in_features=768, out_features=768, bias=True)\n",
              "      (activation): Tanh()\n",
              "    )\n",
              "  )\n",
              "  (lstm): LSTM(768, 128, batch_first=True, bidirectional=True)\n",
              "  (dropout): Dropout(p=0.2, inplace=False)\n",
              "  (fc): Linear(in_features=256, out_features=14, bias=True)\n",
              ")"
            ]
          },
          "metadata": {},
          "execution_count": 52
        }
      ]
    },
    {
      "cell_type": "code",
      "source": [
        "device"
      ],
      "metadata": {
        "colab": {
          "base_uri": "https://localhost:8080/"
        },
        "id": "ag3WC7QcM0Kf",
        "outputId": "3b679004-e647-4f3f-8c83-5b34cbcbb2b2"
      },
      "execution_count": null,
      "outputs": [
        {
          "output_type": "execute_result",
          "data": {
            "text/plain": [
              "device(type='cuda')"
            ]
          },
          "metadata": {},
          "execution_count": 23
        }
      ]
    },
    {
      "cell_type": "markdown",
      "source": [
        "### Setting requires_grad = False for bert layers so only last layers make to train"
      ],
      "metadata": {
        "id": "GS3RLG6y0mvY"
      }
    },
    {
      "cell_type": "code",
      "source": [
        "for name, para in model.named_parameters():\n",
        "    if name.startswith('bert.'):\n",
        "        para.requires_grad = False"
      ],
      "metadata": {
        "id": "wYXM3Rq_M0zr"
      },
      "execution_count": null,
      "outputs": []
    },
    {
      "cell_type": "code",
      "source": [
        "for param in model.parameters():\n",
        "    print(param.requires_grad)"
      ],
      "metadata": {
        "id": "QKUidSTiM5d0"
      },
      "execution_count": null,
      "outputs": []
    },
    {
      "cell_type": "code",
      "source": [
        "num_classes = len(tag2idx)"
      ],
      "metadata": {
        "id": "w8UJddyZM7sV"
      },
      "execution_count": null,
      "outputs": []
    },
    {
      "cell_type": "code",
      "source": [
        "import numpy as np"
      ],
      "metadata": {
        "id": "C5BRonnmPS3i"
      },
      "execution_count": null,
      "outputs": []
    },
    {
      "cell_type": "markdown",
      "source": [
        "### Trained several times with num_epochs=1000,400,200. First time trained on sorted dataset, next time on randomly batched dataset"
      ],
      "metadata": {
        "id": "6wvAiSNW1N4l"
      }
    },
    {
      "cell_type": "code",
      "source": [
        "for epoch in range(num_epochs):\n",
        "    i = 0\n",
        "    losses = []\n",
        "    for batch in dataloader:\n",
        "        i += 1\n",
        "        input_ids, attention_mask, tags_, _ = batch\n",
        "        input_ids = input_ids.to(device)\n",
        "        attention_mask = attention_mask.to(device)\n",
        "        tags_ = tags_.to(device)\n",
        "\n",
        "        optimizer.zero_grad()\n",
        "        logits = model(input_ids, attention_mask)\n",
        "        loss = loss_fn(logits.reshape(-1, num_classes), tags_.reshape(-1))\n",
        "        loss.backward()\n",
        "        optimizer.step()\n",
        "        losses.append(loss.item())\n",
        "    print(f\"Epoch {epoch+1}/{num_epochs} | Loss: {np.mean(losses):.4f}\")"
      ],
      "metadata": {
        "colab": {
          "base_uri": "https://localhost:8080/"
        },
        "id": "2aYx_jK5NHI4",
        "outputId": "b4ce47ef-eced-4759-8ca8-cc034e5ca5bf"
      },
      "execution_count": null,
      "outputs": [
        {
          "output_type": "stream",
          "name": "stderr",
          "text": [
            "<ipython-input-120-e6e95fbfd405>:14: UserWarning: To copy construct from a tensor, it is recommended to use sourceTensor.clone().detach() or sourceTensor.clone().detach().requires_grad_(True), rather than torch.tensor(sourceTensor).\n",
            "  return input_ids, attention_masks, torch.tensor(tags), raw_tags\n"
          ]
        },
        {
          "output_type": "stream",
          "name": "stdout",
          "text": [
            "Epoch 1/200 | Loss: 0.8136\n",
            "Epoch 2/200 | Loss: 0.8141\n",
            "Epoch 3/200 | Loss: 0.8129\n",
            "Epoch 4/200 | Loss: 0.8128\n",
            "Epoch 5/200 | Loss: 0.8122\n",
            "Epoch 6/200 | Loss: 0.8103\n",
            "Epoch 7/200 | Loss: 0.8097\n",
            "Epoch 8/200 | Loss: 0.8090\n",
            "Epoch 9/200 | Loss: 0.8090\n",
            "Epoch 10/200 | Loss: 0.8063\n",
            "Epoch 11/200 | Loss: 0.8071\n",
            "Epoch 12/200 | Loss: 0.8059\n",
            "Epoch 13/200 | Loss: 0.8047\n",
            "Epoch 14/200 | Loss: 0.8041\n",
            "Epoch 15/200 | Loss: 0.8022\n",
            "Epoch 16/200 | Loss: 0.8025\n",
            "Epoch 17/200 | Loss: 0.8011\n",
            "Epoch 18/200 | Loss: 0.8016\n",
            "Epoch 19/200 | Loss: 0.7993\n",
            "Epoch 20/200 | Loss: 0.7991\n",
            "Epoch 21/200 | Loss: 0.7979\n",
            "Epoch 22/200 | Loss: 0.7962\n",
            "Epoch 23/200 | Loss: 0.7954\n",
            "Epoch 24/200 | Loss: 0.7960\n",
            "Epoch 25/200 | Loss: 0.7959\n",
            "Epoch 26/200 | Loss: 0.7948\n",
            "Epoch 27/200 | Loss: 0.7938\n",
            "Epoch 28/200 | Loss: 0.7924\n",
            "Epoch 29/200 | Loss: 0.7926\n",
            "Epoch 30/200 | Loss: 0.7915\n",
            "Epoch 31/200 | Loss: 0.7894\n",
            "Epoch 32/200 | Loss: 0.7883\n",
            "Epoch 33/200 | Loss: 0.7885\n",
            "Epoch 34/200 | Loss: 0.7878\n",
            "Epoch 35/200 | Loss: 0.7881\n",
            "Epoch 36/200 | Loss: 0.7848\n",
            "Epoch 37/200 | Loss: 0.7843\n",
            "Epoch 38/200 | Loss: 0.7844\n",
            "Epoch 39/200 | Loss: 0.7831\n",
            "Epoch 40/200 | Loss: 0.7835\n",
            "Epoch 41/200 | Loss: 0.7818\n",
            "Epoch 42/200 | Loss: 0.7820\n",
            "Epoch 43/200 | Loss: 0.7816\n",
            "Epoch 44/200 | Loss: 0.7802\n",
            "Epoch 45/200 | Loss: 0.7776\n",
            "Epoch 46/200 | Loss: 0.7779\n",
            "Epoch 47/200 | Loss: 0.7760\n",
            "Epoch 48/200 | Loss: 0.7770\n",
            "Epoch 49/200 | Loss: 0.7773\n",
            "Epoch 50/200 | Loss: 0.7751\n",
            "Epoch 51/200 | Loss: 0.7753\n",
            "Epoch 52/200 | Loss: 0.7740\n",
            "Epoch 53/200 | Loss: 0.7737\n",
            "Epoch 54/200 | Loss: 0.7724\n",
            "Epoch 55/200 | Loss: 0.7717\n",
            "Epoch 56/200 | Loss: 0.7713\n",
            "Epoch 57/200 | Loss: 0.7704\n",
            "Epoch 58/200 | Loss: 0.7704\n",
            "Epoch 59/200 | Loss: 0.7687\n",
            "Epoch 60/200 | Loss: 0.7671\n",
            "Epoch 61/200 | Loss: 0.7674\n",
            "Epoch 62/200 | Loss: 0.7662\n",
            "Epoch 63/200 | Loss: 0.7658\n",
            "Epoch 64/200 | Loss: 0.7654\n",
            "Epoch 65/200 | Loss: 0.7654\n",
            "Epoch 66/200 | Loss: 0.7634\n",
            "Epoch 67/200 | Loss: 0.7624\n",
            "Epoch 68/200 | Loss: 0.7618\n",
            "Epoch 69/200 | Loss: 0.7610\n",
            "Epoch 70/200 | Loss: 0.7608\n",
            "Epoch 71/200 | Loss: 0.7592\n",
            "Epoch 72/200 | Loss: 0.7581\n",
            "Epoch 73/200 | Loss: 0.7590\n",
            "Epoch 74/200 | Loss: 0.7565\n",
            "Epoch 75/200 | Loss: 0.7571\n",
            "Epoch 76/200 | Loss: 0.7562\n",
            "Epoch 77/200 | Loss: 0.7566\n",
            "Epoch 78/200 | Loss: 0.7557\n",
            "Epoch 79/200 | Loss: 0.7541\n",
            "Epoch 80/200 | Loss: 0.7527\n",
            "Epoch 81/200 | Loss: 0.7528\n",
            "Epoch 82/200 | Loss: 0.7519\n",
            "Epoch 83/200 | Loss: 0.7517\n",
            "Epoch 84/200 | Loss: 0.7519\n",
            "Epoch 85/200 | Loss: 0.7513\n",
            "Epoch 86/200 | Loss: 0.7501\n",
            "Epoch 87/200 | Loss: 0.7483\n",
            "Epoch 88/200 | Loss: 0.7490\n",
            "Epoch 89/200 | Loss: 0.7481\n",
            "Epoch 90/200 | Loss: 0.7463\n",
            "Epoch 91/200 | Loss: 0.7471\n",
            "Epoch 92/200 | Loss: 0.7463\n",
            "Epoch 93/200 | Loss: 0.7450\n",
            "Epoch 94/200 | Loss: 0.7432\n",
            "Epoch 95/200 | Loss: 0.7442\n",
            "Epoch 96/200 | Loss: 0.7439\n",
            "Epoch 97/200 | Loss: 0.7428\n",
            "Epoch 98/200 | Loss: 0.7427\n",
            "Epoch 99/200 | Loss: 0.7411\n",
            "Epoch 100/200 | Loss: 0.7402\n",
            "Epoch 101/200 | Loss: 0.7394\n",
            "Epoch 102/200 | Loss: 0.7397\n",
            "Epoch 103/200 | Loss: 0.7370\n",
            "Epoch 104/200 | Loss: 0.7378\n",
            "Epoch 105/200 | Loss: 0.7383\n",
            "Epoch 106/200 | Loss: 0.7376\n",
            "Epoch 107/200 | Loss: 0.7351\n",
            "Epoch 108/200 | Loss: 0.7357\n",
            "Epoch 109/200 | Loss: 0.7344\n",
            "Epoch 110/200 | Loss: 0.7343\n",
            "Epoch 111/200 | Loss: 0.7342\n",
            "Epoch 112/200 | Loss: 0.7328\n",
            "Epoch 113/200 | Loss: 0.7322\n",
            "Epoch 114/200 | Loss: 0.7317\n",
            "Epoch 115/200 | Loss: 0.7309\n",
            "Epoch 116/200 | Loss: 0.7292\n",
            "Epoch 117/200 | Loss: 0.7292\n",
            "Epoch 118/200 | Loss: 0.7291\n",
            "Epoch 119/200 | Loss: 0.7286\n",
            "Epoch 120/200 | Loss: 0.7268\n",
            "Epoch 121/200 | Loss: 0.7272\n",
            "Epoch 122/200 | Loss: 0.7268\n",
            "Epoch 123/200 | Loss: 0.7255\n",
            "Epoch 124/200 | Loss: 0.7255\n",
            "Epoch 125/200 | Loss: 0.7251\n",
            "Epoch 126/200 | Loss: 0.7251\n",
            "Epoch 127/200 | Loss: 0.7236\n",
            "Epoch 128/200 | Loss: 0.7231\n",
            "Epoch 129/200 | Loss: 0.7210\n",
            "Epoch 130/200 | Loss: 0.7228\n",
            "Epoch 131/200 | Loss: 0.7206\n",
            "Epoch 132/200 | Loss: 0.7195\n",
            "Epoch 133/200 | Loss: 0.7201\n",
            "Epoch 134/200 | Loss: 0.7202\n",
            "Epoch 135/200 | Loss: 0.7176\n",
            "Epoch 136/200 | Loss: 0.7168\n",
            "Epoch 137/200 | Loss: 0.7166\n",
            "Epoch 138/200 | Loss: 0.7189\n",
            "Epoch 139/200 | Loss: 0.7173\n",
            "Epoch 140/200 | Loss: 0.7159\n",
            "Epoch 141/200 | Loss: 0.7162\n",
            "Epoch 142/200 | Loss: 0.7153\n",
            "Epoch 143/200 | Loss: 0.7147\n",
            "Epoch 144/200 | Loss: 0.7136\n",
            "Epoch 145/200 | Loss: 0.7119\n",
            "Epoch 146/200 | Loss: 0.7125\n",
            "Epoch 147/200 | Loss: 0.7111\n",
            "Epoch 148/200 | Loss: 0.7106\n",
            "Epoch 149/200 | Loss: 0.7120\n",
            "Epoch 150/200 | Loss: 0.7106\n",
            "Epoch 151/200 | Loss: 0.7093\n",
            "Epoch 152/200 | Loss: 0.7096\n",
            "Epoch 153/200 | Loss: 0.7091\n",
            "Epoch 154/200 | Loss: 0.7089\n",
            "Epoch 155/200 | Loss: 0.7069\n",
            "Epoch 156/200 | Loss: 0.7063\n",
            "Epoch 157/200 | Loss: 0.7067\n",
            "Epoch 158/200 | Loss: 0.7062\n",
            "Epoch 159/200 | Loss: 0.7042\n",
            "Epoch 160/200 | Loss: 0.7044\n",
            "Epoch 161/200 | Loss: 0.7036\n",
            "Epoch 162/200 | Loss: 0.7051\n",
            "Epoch 163/200 | Loss: 0.7024\n",
            "Epoch 164/200 | Loss: 0.7026\n",
            "Epoch 165/200 | Loss: 0.7028\n",
            "Epoch 166/200 | Loss: 0.7014\n",
            "Epoch 167/200 | Loss: 0.7009\n",
            "Epoch 168/200 | Loss: 0.7004\n",
            "Epoch 169/200 | Loss: 0.6988\n",
            "Epoch 170/200 | Loss: 0.6988\n",
            "Epoch 171/200 | Loss: 0.6990\n",
            "Epoch 172/200 | Loss: 0.6987\n",
            "Epoch 173/200 | Loss: 0.6997\n",
            "Epoch 174/200 | Loss: 0.6968\n",
            "Epoch 175/200 | Loss: 0.6961\n",
            "Epoch 176/200 | Loss: 0.6958\n",
            "Epoch 177/200 | Loss: 0.6962\n",
            "Epoch 178/200 | Loss: 0.6946\n",
            "Epoch 179/200 | Loss: 0.6952\n",
            "Epoch 180/200 | Loss: 0.6949\n",
            "Epoch 181/200 | Loss: 0.6928\n",
            "Epoch 182/200 | Loss: 0.6937\n",
            "Epoch 183/200 | Loss: 0.6923\n",
            "Epoch 184/200 | Loss: 0.6914\n",
            "Epoch 185/200 | Loss: 0.6903\n",
            "Epoch 186/200 | Loss: 0.6910\n",
            "Epoch 187/200 | Loss: 0.6909\n",
            "Epoch 188/200 | Loss: 0.6895\n",
            "Epoch 189/200 | Loss: 0.6892\n",
            "Epoch 190/200 | Loss: 0.6893\n",
            "Epoch 191/200 | Loss: 0.6876\n",
            "Epoch 192/200 | Loss: 0.6871\n",
            "Epoch 193/200 | Loss: 0.6871\n",
            "Epoch 194/200 | Loss: 0.6875\n",
            "Epoch 195/200 | Loss: 0.6868\n",
            "Epoch 196/200 | Loss: 0.6853\n",
            "Epoch 197/200 | Loss: 0.6856\n",
            "Epoch 198/200 | Loss: 0.6855\n",
            "Epoch 199/200 | Loss: 0.6844\n",
            "Epoch 200/200 | Loss: 0.6830\n"
          ]
        }
      ]
    },
    {
      "cell_type": "code",
      "source": [
        "torch.save(model, 'ner_model2.pt')"
      ],
      "metadata": {
        "id": "OsiaNjq4NL6a"
      },
      "execution_count": null,
      "outputs": []
    },
    {
      "cell_type": "code",
      "source": [
        "model2 = torch.load('drive/MyDrive/ner_model2.pt') #, map_location=torch.device('cpu'))"
      ],
      "metadata": {
        "id": "2xcLDuek9ZIS"
      },
      "execution_count": null,
      "outputs": []
    },
    {
      "cell_type": "code",
      "source": [
        "!cp ner_model2.pt drive/MyDrive"
      ],
      "metadata": {
        "id": "6vaUBSnK6gIy"
      },
      "execution_count": null,
      "outputs": []
    },
    {
      "cell_type": "code",
      "source": [
        "num_classes = len(tag2idx)"
      ],
      "metadata": {
        "id": "4ZwCtt-ZZEPM"
      },
      "execution_count": null,
      "outputs": []
    },
    {
      "cell_type": "code",
      "source": [
        "num_classes"
      ],
      "metadata": {
        "colab": {
          "base_uri": "https://localhost:8080/"
        },
        "id": "xpf_ENS4ZIzY",
        "outputId": "8f654a1f-49ff-4c49-89c4-ceccbfec1ddc"
      },
      "execution_count": null,
      "outputs": [
        {
          "output_type": "execute_result",
          "data": {
            "text/plain": [
              "14"
            ]
          },
          "metadata": {},
          "execution_count": 93
        }
      ]
    },
    {
      "cell_type": "code",
      "source": [
        "device = torch.device(\"cuda\" if torch.cuda.is_available() else \"cpu\")"
      ],
      "metadata": {
        "id": "ScsshJx1rIK3"
      },
      "execution_count": null,
      "outputs": []
    },
    {
      "cell_type": "markdown",
      "source": [
        "### As model predicts tag for each token we need to make prediction for word consisted of several tokens. We do it by averaging up probabilities of tokens and taking argmax of it"
      ],
      "metadata": {
        "id": "tVPHCJgEbVEo"
      }
    },
    {
      "cell_type": "code",
      "source": [
        "def get_word_predictions(logits, separation_symbol=12):\n",
        "    _, predicted_labels = torch.max(logits, dim=2)\n",
        "    # print(predicted_labels)\n",
        "    word_predictions = []\n",
        "    batch_word_predictions = []\n",
        "\n",
        "    for batch in range(logits.size(0)):\n",
        "        word = []\n",
        "        word_target = []\n",
        "        word_length = 0\n",
        "        for token in range(logits.size(1)):\n",
        "            label = predicted_labels[batch, token].item()\n",
        "            if label != separation_symbol:\n",
        "                word.append(label)\n",
        "                word_target.append(logits[batch, token])\n",
        "                word_length += 1\n",
        "            else:\n",
        "                if word:\n",
        "                    # Choose one target from multiple targets for each token\n",
        "                    averaged_target = sum(word_target) / word_length\n",
        "                    word_predictions.append(torch.argmax(averaged_target).item())\n",
        "                    word_target = []\n",
        "                    word = []\n",
        "                    word_length = 0\n",
        "\n",
        "        if word:\n",
        "            averaged_target = sum(word_target) / word_length\n",
        "            word_predictions.append(torch.argmax(averaged_target).item())\n",
        "        batch_word_predictions.append(word_predictions)\n",
        "        word_predictions = []\n",
        "\n",
        "    return batch_word_predictions"
      ],
      "metadata": {
        "id": "BHWEua-abWEz"
      },
      "execution_count": null,
      "outputs": []
    },
    {
      "cell_type": "markdown",
      "source": [
        "### Function for calculation precision recall for each class"
      ],
      "metadata": {
        "id": "t8C3EZRe2XJr"
      }
    },
    {
      "cell_type": "code",
      "source": [
        "def calculate_precision_recall(model):\n",
        "    true_positives = torch.zeros(num_classes)\n",
        "    false_positives = torch.zeros(num_classes)\n",
        "    false_negatives = torch.zeros(num_classes)\n",
        "    model.eval()\n",
        "    for batch in dataloader:\n",
        "        input_ids, attention_mask, encoded_target, raw_target = batch\n",
        "        with torch.no_grad():\n",
        "            input_ids = input_ids.to(device)\n",
        "            attention_mask = attention_mask.to(device)\n",
        "            logits = model(input_ids, attention_mask)\n",
        "        predicted_targets = get_word_predictions(logits)\n",
        "        for i in range(len(raw_target)):\n",
        "            for true_label, predicted_label in zip(raw_target[i], predicted_targets[i]):\n",
        "                if predicted_label == true_label:\n",
        "                    true_positives[true_label] += 1\n",
        "                else:\n",
        "                    false_positives[predicted_label] += 1\n",
        "                    false_negatives[true_label] += 1\n",
        "\n",
        "    precisions = true_positives / (true_positives + false_positives)\n",
        "    recalls = true_positives / (true_positives + false_negatives)\n",
        "\n",
        "    return precisions, recalls"
      ],
      "metadata": {
        "id": "Wndar-zC6mKv"
      },
      "execution_count": null,
      "outputs": []
    },
    {
      "cell_type": "markdown",
      "source": [
        "### Calculate precision and recall on train dataset"
      ],
      "metadata": {
        "id": "gdRYZhU1h4Tu"
      }
    },
    {
      "cell_type": "code",
      "source": [
        "precisions, recalls = calculate_precision_recall(model2)"
      ],
      "metadata": {
        "colab": {
          "base_uri": "https://localhost:8080/"
        },
        "id": "DNLG4nFqbG-S",
        "outputId": "ebe2d5e7-ea94-46bf-ca2f-ed3b4443ac3b"
      },
      "execution_count": null,
      "outputs": [
        {
          "output_type": "stream",
          "name": "stderr",
          "text": [
            "<ipython-input-84-da7dc6981824>:10: UserWarning: To copy construct from a tensor, it is recommended to use sourceTensor.clone().detach() or sourceTensor.clone().detach().requires_grad_(True), rather than torch.tensor(sourceTensor).\n",
            "  return input_ids, attention_masks, torch.tensor(tags), raw_tags\n"
          ]
        }
      ]
    },
    {
      "cell_type": "code",
      "source": [
        "precisions"
      ],
      "metadata": {
        "colab": {
          "base_uri": "https://localhost:8080/"
        },
        "id": "AqWgnHvPrhQU",
        "outputId": "81d7b013-50da-4011-8799-c80edc50d185"
      },
      "execution_count": null,
      "outputs": [
        {
          "output_type": "execute_result",
          "data": {
            "text/plain": [
              "tensor([   nan, 0.6023, 0.0060, 0.0000,    nan,    nan, 0.6832,    nan,    nan,\n",
              "           nan,    nan,    nan,    nan, 0.0000])"
            ]
          },
          "metadata": {},
          "execution_count": 30
        }
      ]
    },
    {
      "cell_type": "code",
      "source": [
        "recalls"
      ],
      "metadata": {
        "colab": {
          "base_uri": "https://localhost:8080/"
        },
        "id": "jKYFmggerNa2",
        "outputId": "5caa0404-ca70-496f-ccfb-d7107482386f"
      },
      "execution_count": null,
      "outputs": [
        {
          "output_type": "execute_result",
          "data": {
            "text/plain": [
              "tensor([0.0000, 0.7082, 0.0053, 0.0000, 0.0000, 0.0000, 0.8199, 0.0000, 0.0000,\n",
              "        0.0000, 0.0000, 0.0000,    nan,    nan])"
            ]
          },
          "metadata": {},
          "execution_count": 29
        }
      ]
    },
    {
      "cell_type": "code",
      "source": [
        "import pandas as pd"
      ],
      "metadata": {
        "id": "adhsRfOFX4Gy"
      },
      "execution_count": null,
      "outputs": []
    },
    {
      "cell_type": "code",
      "source": [
        "results = pd.DataFrame({'GivenName': [0.60, 0.71],\n",
        "                        'Surname': [0.68, 0.82]},\n",
        "                        index=['precision', 'recall'])\n",
        "results"
      ],
      "metadata": {
        "colab": {
          "base_uri": "https://localhost:8080/",
          "height": 112
        },
        "id": "xUBI_RIDbeOR",
        "outputId": "35f60675-3f20-4578-c262-91e004c05625"
      },
      "execution_count": null,
      "outputs": [
        {
          "output_type": "execute_result",
          "data": {
            "text/plain": [
              "           GivenName  Surname\n",
              "precision       0.60     0.68\n",
              "recall          0.71     0.82"
            ],
            "text/html": [
              "\n",
              "  <div id=\"df-5cf90b3a-2824-4ce6-aa19-a68cad6c1245\">\n",
              "    <div class=\"colab-df-container\">\n",
              "      <div>\n",
              "<style scoped>\n",
              "    .dataframe tbody tr th:only-of-type {\n",
              "        vertical-align: middle;\n",
              "    }\n",
              "\n",
              "    .dataframe tbody tr th {\n",
              "        vertical-align: top;\n",
              "    }\n",
              "\n",
              "    .dataframe thead th {\n",
              "        text-align: right;\n",
              "    }\n",
              "</style>\n",
              "<table border=\"1\" class=\"dataframe\">\n",
              "  <thead>\n",
              "    <tr style=\"text-align: right;\">\n",
              "      <th></th>\n",
              "      <th>GivenName</th>\n",
              "      <th>Surname</th>\n",
              "    </tr>\n",
              "  </thead>\n",
              "  <tbody>\n",
              "    <tr>\n",
              "      <th>precision</th>\n",
              "      <td>0.60</td>\n",
              "      <td>0.68</td>\n",
              "    </tr>\n",
              "    <tr>\n",
              "      <th>recall</th>\n",
              "      <td>0.71</td>\n",
              "      <td>0.82</td>\n",
              "    </tr>\n",
              "  </tbody>\n",
              "</table>\n",
              "</div>\n",
              "      <button class=\"colab-df-convert\" onclick=\"convertToInteractive('df-5cf90b3a-2824-4ce6-aa19-a68cad6c1245')\"\n",
              "              title=\"Convert this dataframe to an interactive table.\"\n",
              "              style=\"display:none;\">\n",
              "        \n",
              "  <svg xmlns=\"http://www.w3.org/2000/svg\" height=\"24px\"viewBox=\"0 0 24 24\"\n",
              "       width=\"24px\">\n",
              "    <path d=\"M0 0h24v24H0V0z\" fill=\"none\"/>\n",
              "    <path d=\"M18.56 5.44l.94 2.06.94-2.06 2.06-.94-2.06-.94-.94-2.06-.94 2.06-2.06.94zm-11 1L8.5 8.5l.94-2.06 2.06-.94-2.06-.94L8.5 2.5l-.94 2.06-2.06.94zm10 10l.94 2.06.94-2.06 2.06-.94-2.06-.94-.94-2.06-.94 2.06-2.06.94z\"/><path d=\"M17.41 7.96l-1.37-1.37c-.4-.4-.92-.59-1.43-.59-.52 0-1.04.2-1.43.59L10.3 9.45l-7.72 7.72c-.78.78-.78 2.05 0 2.83L4 21.41c.39.39.9.59 1.41.59.51 0 1.02-.2 1.41-.59l7.78-7.78 2.81-2.81c.8-.78.8-2.07 0-2.86zM5.41 20L4 18.59l7.72-7.72 1.47 1.35L5.41 20z\"/>\n",
              "  </svg>\n",
              "      </button>\n",
              "      \n",
              "  <style>\n",
              "    .colab-df-container {\n",
              "      display:flex;\n",
              "      flex-wrap:wrap;\n",
              "      gap: 12px;\n",
              "    }\n",
              "\n",
              "    .colab-df-convert {\n",
              "      background-color: #E8F0FE;\n",
              "      border: none;\n",
              "      border-radius: 50%;\n",
              "      cursor: pointer;\n",
              "      display: none;\n",
              "      fill: #1967D2;\n",
              "      height: 32px;\n",
              "      padding: 0 0 0 0;\n",
              "      width: 32px;\n",
              "    }\n",
              "\n",
              "    .colab-df-convert:hover {\n",
              "      background-color: #E2EBFA;\n",
              "      box-shadow: 0px 1px 2px rgba(60, 64, 67, 0.3), 0px 1px 3px 1px rgba(60, 64, 67, 0.15);\n",
              "      fill: #174EA6;\n",
              "    }\n",
              "\n",
              "    [theme=dark] .colab-df-convert {\n",
              "      background-color: #3B4455;\n",
              "      fill: #D2E3FC;\n",
              "    }\n",
              "\n",
              "    [theme=dark] .colab-df-convert:hover {\n",
              "      background-color: #434B5C;\n",
              "      box-shadow: 0px 1px 3px 1px rgba(0, 0, 0, 0.15);\n",
              "      filter: drop-shadow(0px 1px 2px rgba(0, 0, 0, 0.3));\n",
              "      fill: #FFFFFF;\n",
              "    }\n",
              "  </style>\n",
              "\n",
              "      <script>\n",
              "        const buttonEl =\n",
              "          document.querySelector('#df-5cf90b3a-2824-4ce6-aa19-a68cad6c1245 button.colab-df-convert');\n",
              "        buttonEl.style.display =\n",
              "          google.colab.kernel.accessAllowed ? 'block' : 'none';\n",
              "\n",
              "        async function convertToInteractive(key) {\n",
              "          const element = document.querySelector('#df-5cf90b3a-2824-4ce6-aa19-a68cad6c1245');\n",
              "          const dataTable =\n",
              "            await google.colab.kernel.invokeFunction('convertToInteractive',\n",
              "                                                     [key], {});\n",
              "          if (!dataTable) return;\n",
              "\n",
              "          const docLinkHtml = 'Like what you see? Visit the ' +\n",
              "            '<a target=\"_blank\" href=https://colab.research.google.com/notebooks/data_table.ipynb>data table notebook</a>'\n",
              "            + ' to learn more about interactive tables.';\n",
              "          element.innerHTML = '';\n",
              "          dataTable['output_type'] = 'display_data';\n",
              "          await google.colab.output.renderOutput(dataTable, element);\n",
              "          const docLink = document.createElement('div');\n",
              "          docLink.innerHTML = docLinkHtml;\n",
              "          element.appendChild(docLink);\n",
              "        }\n",
              "      </script>\n",
              "    </div>\n",
              "  </div>\n",
              "  "
            ]
          },
          "metadata": {},
          "execution_count": 93
        }
      ]
    },
    {
      "cell_type": "markdown",
      "source": [
        "### Conclusions and what else can be done:\n",
        "\n",
        "1. Model fit relatively good on the biggest classes\n",
        "2. We can train longer, because loss continued to decline\n",
        "3. Split on train/val dataset to estimate metrics accuratly\n",
        "4. Hardcode labels for some classes for example for \"And\" class, we will get in general very good metrics for this class\n",
        "5. Hardcode rules for some classes, for example for class \"Surname\", if word ends on 'ov' for russian surnames then it is surname\n",
        "6. Merge some two classes in one class and then create classificator between these 2 classes for example for prefixes and suffixes\n",
        "7. Experiment with current architecture, optimizer, learning_rate\n",
        "8. Try CRF on top of the model layers"
      ],
      "metadata": {
        "id": "pRJJCj5Agitk"
      }
    },
    {
      "cell_type": "code",
      "source": [],
      "metadata": {
        "id": "koLrDQ-ojfb1"
      },
      "execution_count": null,
      "outputs": []
    }
  ]
}